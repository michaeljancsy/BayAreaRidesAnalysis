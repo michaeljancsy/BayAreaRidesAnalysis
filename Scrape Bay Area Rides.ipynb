{
 "cells": [
  {
   "cell_type": "code",
   "execution_count": 1,
   "metadata": {
    "collapsed": true
   },
   "outputs": [],
   "source": [
    "from bs4 import BeautifulSoup\n",
    "import urllib3\n",
    "import pickle as pkl"
   ]
  },
  {
   "cell_type": "code",
   "execution_count": 2,
   "metadata": {},
   "outputs": [
    {
     "name": "stderr",
     "output_type": "stream",
     "text": [
      "/venv3/lib/python3.6/site-packages/urllib3/connectionpool.py:857: InsecureRequestWarning: Unverified HTTPS request is being made. Adding certificate verification is strongly advised. See: https://urllib3.readthedocs.io/en/latest/advanced-usage.html#ssl-warnings\n",
      "  InsecureRequestWarning)\n"
     ]
    }
   ],
   "source": []
  },
  {
   "cell_type": "code",
   "execution_count": 32,
   "metadata": {},
   "outputs": [],
   "source": []
  },
  {
   "cell_type": "code",
   "execution_count": null,
   "metadata": {},
   "outputs": [],
   "source": []
  },
  {
   "cell_type": "code",
   "execution_count": 58,
   "metadata": {},
   "outputs": [],
   "source": [
    "class Snippet:\n",
    "    def __init__(self, \n",
    "                 name, \n",
    "                 relative_url, \n",
    "                 description, \n",
    "                 fun_rating, \n",
    "                 scenic_rating,\n",
    "                 aerobic_rating, \n",
    "                 technical_rating):\n",
    "        self.name = name\n",
    "        self.relative_url = relative_url\n",
    "        self.description = description\n",
    "        self.fun_rating = fun_rating\n",
    "        self.scenic_rating = scenic_rating\n",
    "        self.aerobic_rating = aerobic_rating\n",
    "        self.technical_rating = technical_rating\n",
    "        \n",
    "    def extract_all_from_soup(soup):\n",
    "        \"\"\"Extracts Snippet objects from a bs4.BeautifulSoup of the homepage\"\"\"\n",
    "        snippets = []\n",
    "        for snippet_html in Snippet._get_snippets_html(soup):\n",
    "            snippets.append(Snippet._snippet_from_html(snippet_html))\n",
    "        return snippets\n",
    "        \n",
    "    def _get_snippets_html(soup):\n",
    "        \"\"\"Finds all the <tr class=\"even\"> and <tr class=\"odd>\n",
    "        \n",
    "        These <tr ...> correspond to snippets\n",
    "        \"\"\"\n",
    "        return soup.find_all(name='tr', attrs=['even', 'odd'])\n",
    "    \n",
    "    def _snippet_from_html(snippet_html):\n",
    "        \"\"\"Creates a Snippet from the snippet_html extracted with `_get_snippets_html(soup)`\"\"\"\n",
    "        name, relative_url, description = Snippet._get_name_relurl_and_desc(snippet_html)\n",
    "        fun_rating = Snippet._get_rating(snippet_html, 'fun')\n",
    "        scenic_rating = Snippet._get_rating(snippet_html, 'scenic')\n",
    "        aerobic_rating = Snippet._get_rating(snippet_html, 'aerobic')\n",
    "        technical_rating = Snippet._get_rating(snippet_html, 'technical')\n",
    "        return Snippet(name, \n",
    "                       relative_url, \n",
    "                       description, \n",
    "                       fun_rating, \n",
    "                       scenic_rating,\n",
    "                       aerobic_rating,\n",
    "                       technical_rating)\n",
    "\n",
    "    def _get_rating(snippet_html, category):\n",
    "        \"\"\"Gets the numeric rating from a <div>\n",
    "        \n",
    "        The rating <div> looks like this:\n",
    "            <div class=\"rating-container-fun\">\n",
    "            <div style=\"WIDTH: 20%;\">2</div>\n",
    "            </div>         \n",
    "        \"\"\"\n",
    "        attr = 'rating-container-{category}'.format(category=category)\n",
    "        ratings_table_html = snippet_html.find('td', 'listingratings')\n",
    "        category_html = ratings_table_html.find('div', attr)\n",
    "        return int(list(list(category_html.children)[1])[0])\n",
    "\n",
    "    def _get_name_relurl_and_desc(snippet_html):\n",
    "        \n",
    "        \"\"\"Extracts name, relative url, and description from <p class=\"snippet\">\n",
    "        \n",
    "        The first (name and url) <p class=\"snippet\"> looks like this:\n",
    "            <p class=\"snippet\">\n",
    "             <span class=\"snippettitle\">\n",
    "              <b>\n",
    "               <a href=\"rides/alamedacreek\">\n",
    "                Alameda Creek Trail\n",
    "               </a>\n",
    "              </b>\n",
    "             </span>\n",
    "            </p>\n",
    "            \n",
    "        The second (description) <p class=\"snippet\"> looks like this:\n",
    "            <p class=\"snippet\">\n",
    "             A casual ride on an easy and flat recreational trail that is not too special other than being somewhat more scenic than usual and giving you a choice of paved or dirt riding.\n",
    "            </p>\n",
    "        \n",
    "        \"\"\"\n",
    "        name_and_url_part, desc_part = snippet_html.find_all('p', 'snippet')\n",
    "        name = name_and_url_part.get_text()\n",
    "        relative_url = name_and_url_part.find('a').get('href')\n",
    "        desc = desc_part.get_text()\n",
    "        return name, relative_url, desc\n",
    "    \n"
   ]
  },
  {
   "cell_type": "code",
   "execution_count": 59,
   "metadata": {
    "collapsed": true
   },
   "outputs": [],
   "source": [
    "# scrape homepage\n",
    "\n",
    "homepage_url = 'http://www.bayarearides.com'\n",
    "\n",
    "\"\"\"\n",
    "This commented out part retrieves a new copy of the homepage html\n",
    "\"\"\"\n",
    "# http = urllib3.PoolManager()\n",
    "# r = http.request('GET', homepage_url)\n",
    "# with open('homepage.pkl', 'wb') as f:\n",
    "#     pkl.dump(r.data, f)\n",
    "\n",
    "\"\"\"\n",
    "This part loads a cached (pickled) copy of the homepage html\n",
    "\"\"\"\n",
    "with open('homepage.pkl', 'rb') as f:\n",
    "    homepage_response_data = pkl.load(f)"
   ]
  },
  {
   "cell_type": "code",
   "execution_count": 60,
   "metadata": {},
   "outputs": [],
   "source": [
    "# get snippets from homepage\n",
    "homepage_soup = BeautifulSoup(homepage_response_data, 'html.parser')\n",
    "snippets = Snippet.extract_all_from_soup(homepage_soup)"
   ]
  },
  {
   "cell_type": "code",
   "execution_count": null,
   "metadata": {
    "collapsed": true
   },
   "outputs": [],
   "source": []
  }
 ],
 "metadata": {
  "kernelspec": {
   "display_name": "Python 3",
   "language": "python",
   "name": "python3"
  },
  "language_info": {
   "codemirror_mode": {
    "name": "ipython",
    "version": 3
   },
   "file_extension": ".py",
   "mimetype": "text/x-python",
   "name": "python",
   "nbconvert_exporter": "python",
   "pygments_lexer": "ipython3",
   "version": "3.6.1"
  }
 },
 "nbformat": 4,
 "nbformat_minor": 2
}
