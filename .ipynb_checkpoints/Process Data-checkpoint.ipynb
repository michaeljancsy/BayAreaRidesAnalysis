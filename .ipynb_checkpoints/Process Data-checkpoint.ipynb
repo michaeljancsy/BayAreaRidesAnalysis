{
 "cells": [
  {
   "cell_type": "code",
   "execution_count": 1,
   "metadata": {},
   "outputs": [],
   "source": [
    "import pickle as pkl\n",
    "\n",
    "import pandas as pd\n",
    "\n",
    "from trail import Trail"
   ]
  },
  {
   "cell_type": "code",
   "execution_count": 2,
   "metadata": {},
   "outputs": [],
   "source": [
    "with open('all_trails.pkl', 'rb') as f:\n",
    "    trails = pkl.load(f)"
   ]
  },
  {
   "cell_type": "code",
   "execution_count": 3,
   "metadata": {},
   "outputs": [
    {
     "data": {
      "text/plain": [
       "{'aerobic_rating': 2,\n",
       " 'composition_FIRE ROAD': 0.62,\n",
       " 'composition_PAVED': 0.38,\n",
       " 'fun_rating': 2,\n",
       " 'long_desc': None,\n",
       " 'name': 'Alameda Creek Trail',\n",
       " 'scenic_rating': 6,\n",
       " 'short_desc': 'A casual ride on an easy and flat recreational trail that is not too special other than being somewhat more scenic than usual and giving you a choice of paved or dirt riding.',\n",
       " 'technical_rating': 1}"
      ]
     },
     "execution_count": 3,
     "metadata": {},
     "output_type": "execute_result"
    }
   ],
   "source": [
    "trails[0].to_dict()"
   ]
  },
  {
   "cell_type": "code",
   "execution_count": null,
   "metadata": {
    "collapsed": true
   },
   "outputs": [],
   "source": []
  }
 ],
 "metadata": {
  "kernelspec": {
   "display_name": "Python 3",
   "language": "python",
   "name": "python3"
  },
  "language_info": {
   "codemirror_mode": {
    "name": "ipython",
    "version": 3
   },
   "file_extension": ".py",
   "mimetype": "text/x-python",
   "name": "python",
   "nbconvert_exporter": "python",
   "pygments_lexer": "ipython3",
   "version": "3.6.1"
  }
 },
 "nbformat": 4,
 "nbformat_minor": 2
}
